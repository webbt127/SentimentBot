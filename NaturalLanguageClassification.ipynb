{
 "cells": [
  {
   "cell_type": "code",
   "execution_count": null,
   "id": "presidential-guard",
   "metadata": {},
   "outputs": [],
   "source": [
    "\n",
    "import pandas as pd"
   ]
  },
  {
   "cell_type": "code",
   "execution_count": null,
   "id": "intensive-puppy",
   "metadata": {},
   "outputs": [],
   "source": [
    "df = pd.read_csv('./financialNews.csv', encoding='latin-1')"
   ]
  },
  {
   "cell_type": "code",
   "execution_count": null,
   "id": "technical-culture",
   "metadata": {},
   "outputs": [],
   "source": [
    "df"
   ]
  },
  {
   "cell_type": "code",
   "execution_count": null,
   "id": "hourly-framework",
   "metadata": {},
   "outputs": [],
   "source": [
    "df.columns = ['Sentiment', 'SentimentText']"
   ]
  },
  {
   "cell_type": "code",
   "execution_count": null,
   "id": "gothic-interpretation",
   "metadata": {},
   "outputs": [],
   "source": [
    "df"
   ]
  },
  {
   "cell_type": "code",
   "execution_count": null,
   "id": "ruled-penny",
   "metadata": {},
   "outputs": [],
   "source": [
    "mapper = {'negative': 0,\n",
    "         'neutral': 1,\n",
    "         'positive': 2,}\n",
    "df.Sentiment = df.Sentiment.map(mapper)"
   ]
  },
  {
   "cell_type": "code",
   "execution_count": null,
   "id": "psychological-clothing",
   "metadata": {},
   "outputs": [],
   "source": [
    "df"
   ]
  },
  {
   "cell_type": "code",
   "execution_count": null,
   "id": "auburn-ethics",
   "metadata": {},
   "outputs": [],
   "source": [
    "df.Sentiment.value_counts()"
   ]
  },
  {
   "cell_type": "code",
   "execution_count": null,
   "id": "advised-appraisal",
   "metadata": {},
   "outputs": [],
   "source": [
    "from sklearn.model_selection import train_test_split\n",
    "import numpy as np\n",
    "import keras\n",
    "\n",
    "train, valid = train_test_split(df, test_size=0.2)"
   ]
  },
  {
   "cell_type": "code",
   "execution_count": null,
   "id": "controlling-monte",
   "metadata": {},
   "outputs": [],
   "source": [
    "train_text = np.array(train['SentimentText'].tolist().copy())\n",
    "labels = keras.utils.to_categorical(train['Sentiment'].astype('int64'))"
   ]
  },
  {
   "cell_type": "code",
   "execution_count": null,
   "id": "activated-mauritius",
   "metadata": {},
   "outputs": [],
   "source": [
    "valid_text = np.array(valid['SentimentText'].tolist().copy())\n",
    "labels_valid = keras.utils.to_categorical(valid['Sentiment'].astype('int64'))"
   ]
  },
  {
   "cell_type": "code",
   "execution_count": null,
   "id": "vocal-headset",
   "metadata": {},
   "outputs": [],
   "source": [
    "from tensorflow.keras.preprocessing.text import Tokenizer\n",
    "from tensorflow.keras.preprocessing.sequence import pad_sequences\n",
    "\n",
    "#Set up variables for preprocessing and learning\n",
    "vocab_size = 1000\n",
    "embedding_dim = 16\n",
    "max_length = 142\n",
    "trunc_type='post'\n",
    "padding_type='post'\n",
    "oov_token = '<OOV>'\n",
    "\n",
    "tokenizer = Tokenizer(num_words=vocab_size, oov_token=oov_token)\n",
    "tokenizer.fit_on_texts(train_text)\n",
    "\n",
    "# tokenizer.word_index\n",
    "\n",
    "sequences = tokenizer.texts_to_sequences(train_text)\n",
    "padded = pad_sequences(sequences, maxlen=max_length, padding=padding_type, truncating=trunc_type)\n",
    "\n",
    "testing_sequences = tokenizer.texts_to_sequences(valid_text)\n",
    "testing_padded = pad_sequences(testing_sequences, maxlen=max_length, padding=padding_type, truncating=trunc_type)\n"
   ]
  },
  {
   "cell_type": "code",
   "execution_count": null,
   "id": "annoying-colony",
   "metadata": {},
   "outputs": [],
   "source": [
    "import pickle\n",
    "\n",
    "with open('tokenizer.pickle', 'wb') as handle:\n",
    "    pickle.dump(tokenizer, handle, protocol=pickle.HIGHEST_PROTOCOL)"
   ]
  },
  {
   "cell_type": "code",
   "execution_count": null,
   "id": "adaptive-robert",
   "metadata": {},
   "outputs": [],
   "source": [
    "import tensorflow as tf\n",
    "\n",
    "model = tf.keras.Sequential([\n",
    "    tf.keras.layers.Embedding(vocab_size, embedding_dim, input_length=max_length),\n",
    "    tf.keras.layers.GlobalAveragePooling1D(),\n",
    "    tf.keras.layers.Dense(16, activation='relu'),\n",
    "    tf.keras.layers.Dense(3, activation='softmax')\n",
    "])\n",
    "\n",
    "model.compile(loss='categorical_crossentropy', optimizer='adam', metrics=['accuracy'])\n",
    "model.summary()"
   ]
  },
  {
   "cell_type": "code",
   "execution_count": null,
   "id": "solved-father",
   "metadata": {},
   "outputs": [],
   "source": [
    "num_epochs = 30\n",
    "history = model.fit(padded, labels, epochs=num_epochs, validation_data=(testing_padded, labels_valid))"
   ]
  },
  {
   "cell_type": "code",
   "execution_count": 9,
   "id": "confused-burton",
   "metadata": {},
   "outputs": [
    {
     "name": "stdout",
     "output_type": "stream",
     "text": [
      "['TSLA will compound by 10% over the next 10 years'] : Positive\n"
     ]
    }
   ],
   "source": [
    "from tensorflow.keras.preprocessing.text import Tokenizer\n",
    "from tensorflow.keras.preprocessing.sequence import pad_sequences\n",
    "import numpy as np\n",
    "\n",
    "#Set up variables for preprocessing and learning\n",
    "vocab_size = 1000\n",
    "embedding_dim = 16\n",
    "max_length = 142\n",
    "trunc_type='post'\n",
    "padding_type='post'\n",
    "oov_token = '<OOV>'\n",
    "\n",
    "phrase = ['TSLA will compound by 10% over the next 10 years']\n",
    "\n",
    "testing_sequences = tokenizer.texts_to_sequences(phrase)\n",
    "testing_padded = pad_sequences(testing_sequences, maxlen=max_length,\n",
    "                              padding=padding_type,truncating=trunc_type)\n",
    "\n",
    "pred = model.predict(testing_padded)\n",
    "classes = np.argmax(pred, axis=-1)\n",
    "dict_sentiment = {0:'Negative', 1:'Neutral', 2: 'Positive'}\n",
    "print(f'{phrase} : {dict_sentiment[int(classes)]}')"
   ]
  },
  {
   "cell_type": "code",
   "execution_count": null,
   "id": "accessory-topic",
   "metadata": {},
   "outputs": [],
   "source": [
    "#Save Model\n",
    "\n",
    "model.save('model1.h5')"
   ]
  },
  {
   "cell_type": "code",
   "execution_count": 6,
   "id": "changing-instrumentation",
   "metadata": {},
   "outputs": [],
   "source": [
    "import tensorflow as tf\n",
    "import pickle\n",
    "model = tf.keras.models.load_model('model1.h5')\n",
    "\n",
    "#Load tokenizer\n",
    "with open('tokenizer.pickle', 'rb') as handle:\n",
    "    tokenizer = pickle.load(handle)"
   ]
  },
  {
   "cell_type": "code",
   "execution_count": null,
   "id": "distant-attachment",
   "metadata": {},
   "outputs": [],
   "source": []
  }
 ],
 "metadata": {
  "kernelspec": {
   "display_name": "Python 3 (ipykernel)",
   "language": "python",
   "name": "python3"
  },
  "language_info": {
   "codemirror_mode": {
    "name": "ipython",
    "version": 3
   },
   "file_extension": ".py",
   "mimetype": "text/x-python",
   "name": "python",
   "nbconvert_exporter": "python",
   "pygments_lexer": "ipython3",
   "version": "3.9.12"
  }
 },
 "nbformat": 4,
 "nbformat_minor": 5
}
